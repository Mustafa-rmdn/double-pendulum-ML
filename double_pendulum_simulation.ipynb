{
 "cells": [
  {
   "cell_type": "code",
   "execution_count": 4,
   "id": "a8bd0cff",
   "metadata": {},
   "outputs": [
    {
     "name": "stdout",
     "output_type": "stream",
     "text": [
      "At t=1.00s, angles are: theta1=-0.627 rad, theta2=-1.032 rad\n"
     ]
    }
   ],
   "source": [
    "import numpy as np\n",
    "from scipy.integrate import solve_ivp\n",
    "\n",
    "# Define the equations of motion for the double pendulum\n",
    "def double_pendulum_derivs(t, y, L1, L2, m1, m2, g=9.81):\n",
    "    theta1, z1, theta2, z2 = y  # unpack state\n",
    "\n",
    "    # Useful shorthand\n",
    "    delta = theta2 - theta1\n",
    "\n",
    "    denom1 = (m1 + m2) * L1 - m2 * L1 * np.cos(delta)**2\n",
    "    denom2 = (L2/L1) * denom1\n",
    "\n",
    "    # Equations of motion\n",
    "    dtheta1_dt = z1\n",
    "    dtheta2_dt = z2\n",
    "\n",
    "    dz1_dt = (\n",
    "        m2*L1*z1**2*np.sin(delta)*np.cos(delta)\n",
    "        + m2*g*np.sin(theta2)*np.cos(delta)\n",
    "        + m2*L2*z2**2*np.sin(delta)\n",
    "        - (m1+m2)*g*np.sin(theta1)\n",
    "    ) / denom1\n",
    "\n",
    "    dz2_dt = (\n",
    "        -m2*L2*z2**2*np.sin(delta)*np.cos(delta)\n",
    "        + (m1+m2)*(g*np.sin(theta1)*np.cos(delta) - L1*z1**2*np.sin(delta) - g*np.sin(theta2))\n",
    "    ) / denom2\n",
    "\n",
    "    return [dtheta1_dt, dz1_dt, dtheta2_dt, dz2_dt]\n",
    "\n",
    "# Function to simulate the double pendulum\n",
    "def simulate_double_pendulum(theta1, theta2, L1, L2, m1, m2, t_max=10, dt=0.01):\n",
    "    # Initial conditions: [theta1, dtheta1/dt, theta2, dtheta2/dt]\n",
    "    y0 = [theta1, 0, theta2, 0]  # start at rest\n",
    "\n",
    "    t_eval = np.arange(0, t_max, dt)\n",
    "    sol = solve_ivp(\n",
    "        double_pendulum_derivs, [0, t_max], y0,\n",
    "        t_eval=t_eval, args=(L1, L2, m1, m2)\n",
    "    )\n",
    "\n",
    "    # Extract results\n",
    "    theta1_sol, theta2_sol = sol.y[0], sol.y[2]\n",
    "\n",
    "    return t_eval, theta1_sol, theta2_sol\n",
    "\n",
    "# Example usage\n",
    "t, theta1_sol, theta2_sol = simulate_double_pendulum(\n",
    "    theta1=np.pi/2, theta2=np.pi/2,  # initial angles (radians)\n",
    "    L1=1.0, L2=1.0,                  # lengths\n",
    "    m1=1.0, m2=1.0,                  # masses\n",
    "    t_max=20, dt=0.01\n",
    ")\n",
    "\n",
    "print(f\"At t={t[100]:.2f}s, angles are: theta1={theta1_sol[100]:.3f} rad, theta2={theta2_sol[100]:.3f} rad\")\n"
   ]
  },
  {
   "cell_type": "code",
   "execution_count": 6,
   "id": "d38e337e",
   "metadata": {},
   "outputs": [],
   "source": [
    "theta1_init = 0\n",
    "theta2_init = 0\n",
    "L1 = 1\n",
    "L2 = 1\n",
    "m1 = 1\n",
    "m2 = 1\n",
    "t, theta1_t, theta2_t = simulate_double_pendulum(theta1_init, theta2_init, L1, L2, m1, m2, t_max=10, dt=0.01)"
   ]
  },
  {
   "cell_type": "code",
   "execution_count": null,
   "id": "7f91dd7a",
   "metadata": {},
   "outputs": [],
   "source": []
  }
 ],
 "metadata": {
  "kernelspec": {
   "display_name": "Python 3 (ipykernel)",
   "language": "python",
   "name": "python3"
  },
  "language_info": {
   "codemirror_mode": {
    "name": "ipython",
    "version": 3
   },
   "file_extension": ".py",
   "mimetype": "text/x-python",
   "name": "python",
   "nbconvert_exporter": "python",
   "pygments_lexer": "ipython3",
   "version": "3.10.5"
  }
 },
 "nbformat": 4,
 "nbformat_minor": 5
}
